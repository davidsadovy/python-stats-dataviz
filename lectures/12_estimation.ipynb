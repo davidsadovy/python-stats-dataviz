{
  "nbformat": 4,
  "nbformat_minor": 0,
  "metadata": {
    "kernelspec": {
      "display_name": "Python 3",
      "language": "python",
      "name": "python3"
    },
    "language_info": {
      "codemirror_mode": {
        "name": "ipython",
        "version": 3
      },
      "file_extension": ".py",
      "mimetype": "text/x-python",
      "name": "python",
      "nbconvert_exporter": "python",
      "pygments_lexer": "ipython3",
      "version": "3.7.4"
    },
    "colab": {
      "provenance": [],
      "include_colab_link": true
    }
  },
  "cells": [
    {
      "cell_type": "markdown",
      "metadata": {
        "id": "view-in-github",
        "colab_type": "text"
      },
      "source": [
        "<a href=\"https://colab.research.google.com/github/wcj365/python-stats-dataviz/blob/master/lectures/12_estimation.ipynb\" target=\"_parent\"><img src=\"https://colab.research.google.com/assets/colab-badge.svg\" alt=\"Open In Colab\"/></a>"
      ]
    },
    {
      "cell_type": "markdown",
      "metadata": {
        "id": "dKwvFe9KaTJT"
      },
      "source": [
        "### 12 - Estimation and Confidence Interval\n",
        "\n",
        "## References \n",
        "\n",
        "https://www.britannica.com/science/statistics/Estimation-of-a-population-mean\n",
        "\n",
        "## Refresher: Properties of normal distribution\n",
        "\n",
        "- Mean = Median = Mode\n",
        "- Curve is symmetric about the center, i.e 50% of the values are less than the mean(𝜇) and 50% of values are greater than the mean(𝜇)\n",
        "- The total area under the curve is 1. This curve is called probability density functoin (PDF)\n",
        "- 68% of values are within 1 standard deviation of the mean, 𝜇±𝜎\n",
        "- 95% of values are within 2 standard deviations of the mean, 𝜇±2𝜎\n",
        "- 99.7% of values are within 3 standard deviations of the mean, 𝜇±3𝜎 (This is where the famous six sigma came from)\n",
        "\n",
        "## Refresher: The Central Limit Theorem \n",
        "\n",
        "- If you have a population with mean μ and standard deviation σ and take sufficiently large random samples from the population with replacementtext annotation indicator, then the distribution of the sample means will be approximately normally distributed. \n",
        "  - The mean of the sampling distribution is the mean of the population\n",
        "  - The standard deviation of the sampling distribution is the population standard deviation divided by the root squared of the sample size.\n",
        "\n",
        "- This will hold true regardless of whether the source population is normal or skewed, provided the sample size is sufficiently large (usually n > 30). \n",
        "\n",
        "- If the population is normal, then the theorem holds true even for samples smaller than 30. \n",
        "\n",
        "- In fact, this also holds true even if the population is binomial, provided that min(np, n(1-p))> 5, where n is the sample size and p is the probability of success in the population. \n",
        "\n",
        "- This means that we can use the normal probability model to quantify uncertainty when making inferences about a population mean based on the sample mean.\n",
        "\n",
        "\n",
        "\n",
        "## Point and Interval Estimation\n",
        "\n",
        "The most fundamental point and interval estimation process involves the estimation of a population mean. Suppose it is of interest to estimate the population mean, μ, for a quantitative variable. Data collected from a simple random sample can be used to compute the sample mean, x̄, where the value of x̄ provides a point estimate of μ.\n",
        "\n",
        "When the sample mean is used as a point estimate of the population mean, some error can be expected owing to the fact that a sample, or subset of the population, is used to compute the point estimate. The absolute value of the difference between the sample mean, x̄, and the population mean, μ, written |x̄ − μ|, is called the sampling error. Interval estimation incorporates a probability statement about the magnitude of the sampling error. The sampling distribution of x̄ provides the basis for such a statement.\n",
        "\n",
        "Statisticians have shown that the mean of the sampling distribution of x̄ is equal to the population mean, μ, and that the standard deviation is given by σ/Square root of√n, where σ is the population standard deviation. The standard deviation of a sampling distribution is called the standard error. For large sample sizes, the central limit theorem indicates that the sampling distribution of x̄ can be approximated by a normal probability distribution. As a matter of practice, statisticians usually consider samples of size 30 or more to be large.\n",
        "\n",
        "## Video to Watch \n",
        "https://www.youtube.com/watch?v=_BiVb6neUP0\n",
        "\n",
        "## Screen Captures from the Above Video\n",
        "\n",
        "*Figure 1*: Population Parameter vs Sample Statistics\n",
        "\n",
        "![Point Estimate vs Interval Estimate](https://github.com/wcj365/python-stats-dataviz/blob/master/images/statistical_estimation.png?raw=1)\n",
        "\n",
        "*Figure 2*. Sampling Distribution of Sample Means\n",
        "\n",
        "![](https://github.com/wcj365/python-stats-dataviz/blob/master/images/statistical_estimation2.png?raw=1)\n",
        "\n",
        "*Figure 3*. Interval Estimation\n",
        "\n",
        "![](https://github.com/wcj365/python-stats-dataviz/blob/master/images/statistical_estimation3.png?raw=1)\n",
        "\n",
        "\n"
      ]
    },
    {
      "cell_type": "code",
      "metadata": {
        "id": "8h-9W1eNaTJW"
      },
      "source": [
        "# Import useful libraries\n",
        "\n",
        "import math\n",
        "import pandas as pd\n",
        "import numpy as np\n",
        "import matplotlib.pyplot as plt\n",
        "\n",
        "# set global parameter to increase the plot size. Default size is too small\n",
        "plt.rcParams[\"figure.figsize\"] = (12,12)     "
      ],
      "execution_count": null,
      "outputs": []
    },
    {
      "cell_type": "code",
      "metadata": {
        "id": "F_29LnU8aTJj",
        "colab": {
          "base_uri": "https://localhost:8080/"
        },
        "outputId": "3fed9419-34a3-4816-c6f9-75cfba79f4e8"
      },
      "source": [
        "# load 2017-2018 college scorecard data\n",
        "# Again, we only load the needed columns\n",
        "\n",
        "DATA_URL = \"https://raw.githubusercontent.com/wcj365/python-stats-dataviz/master/data/MERGED2017_18_PP_FEW_COLUMNS.csv\"\n",
        "col_names = [\"STABBR\", \"INSTNM\",\"CONTROL\", \"TUITIONFEE_IN\"]\n",
        "df = pd.read_csv(DATA_URL, usecols=col_names)\n",
        "df.info()"
      ],
      "execution_count": null,
      "outputs": [
        {
          "output_type": "stream",
          "text": [
            "<class 'pandas.core.frame.DataFrame'>\n",
            "RangeIndex: 7115 entries, 0 to 7114\n",
            "Data columns (total 4 columns):\n",
            " #   Column         Non-Null Count  Dtype  \n",
            "---  ------         --------------  -----  \n",
            " 0   INSTNM         7115 non-null   object \n",
            " 1   STABBR         7115 non-null   object \n",
            " 2   CONTROL        7115 non-null   int64  \n",
            " 3   TUITIONFEE_IN  4028 non-null   float64\n",
            "dtypes: float64(1), int64(1), object(2)\n",
            "memory usage: 222.5+ KB\n"
          ],
          "name": "stdout"
        }
      ]
    },
    {
      "cell_type": "code",
      "metadata": {
        "id": "S3qFaJvvaTJu",
        "colab": {
          "base_uri": "https://localhost:8080/",
          "height": 390
        },
        "outputId": "b4b2a16a-a8b9-4ae2-a6f9-048f6c7f0c30"
      },
      "source": [
        "df.describe(include=\"all\")"
      ],
      "execution_count": null,
      "outputs": [
        {
          "output_type": "execute_result",
          "data": {
            "text/html": [
              "<div>\n",
              "<style scoped>\n",
              "    .dataframe tbody tr th:only-of-type {\n",
              "        vertical-align: middle;\n",
              "    }\n",
              "\n",
              "    .dataframe tbody tr th {\n",
              "        vertical-align: top;\n",
              "    }\n",
              "\n",
              "    .dataframe thead th {\n",
              "        text-align: right;\n",
              "    }\n",
              "</style>\n",
              "<table border=\"1\" class=\"dataframe\">\n",
              "  <thead>\n",
              "    <tr style=\"text-align: right;\">\n",
              "      <th></th>\n",
              "      <th>INSTNM</th>\n",
              "      <th>STABBR</th>\n",
              "      <th>CONTROL</th>\n",
              "      <th>TUITIONFEE_IN</th>\n",
              "    </tr>\n",
              "  </thead>\n",
              "  <tbody>\n",
              "    <tr>\n",
              "      <th>count</th>\n",
              "      <td>7115</td>\n",
              "      <td>7115</td>\n",
              "      <td>7115.000000</td>\n",
              "      <td>4028.000000</td>\n",
              "    </tr>\n",
              "    <tr>\n",
              "      <th>unique</th>\n",
              "      <td>6981</td>\n",
              "      <td>59</td>\n",
              "      <td>NaN</td>\n",
              "      <td>NaN</td>\n",
              "    </tr>\n",
              "    <tr>\n",
              "      <th>top</th>\n",
              "      <td>Stevens-Henager College</td>\n",
              "      <td>CA</td>\n",
              "      <td>NaN</td>\n",
              "      <td>NaN</td>\n",
              "    </tr>\n",
              "    <tr>\n",
              "      <th>freq</th>\n",
              "      <td>7</td>\n",
              "      <td>716</td>\n",
              "      <td>NaN</td>\n",
              "      <td>NaN</td>\n",
              "    </tr>\n",
              "    <tr>\n",
              "      <th>mean</th>\n",
              "      <td>NaN</td>\n",
              "      <td>NaN</td>\n",
              "      <td>2.129585</td>\n",
              "      <td>15081.399950</td>\n",
              "    </tr>\n",
              "    <tr>\n",
              "      <th>std</th>\n",
              "      <td>NaN</td>\n",
              "      <td>NaN</td>\n",
              "      <td>0.834534</td>\n",
              "      <td>12723.724262</td>\n",
              "    </tr>\n",
              "    <tr>\n",
              "      <th>min</th>\n",
              "      <td>NaN</td>\n",
              "      <td>NaN</td>\n",
              "      <td>1.000000</td>\n",
              "      <td>0.000000</td>\n",
              "    </tr>\n",
              "    <tr>\n",
              "      <th>25%</th>\n",
              "      <td>NaN</td>\n",
              "      <td>NaN</td>\n",
              "      <td>1.000000</td>\n",
              "      <td>5246.250000</td>\n",
              "    </tr>\n",
              "    <tr>\n",
              "      <th>50%</th>\n",
              "      <td>NaN</td>\n",
              "      <td>NaN</td>\n",
              "      <td>2.000000</td>\n",
              "      <td>11296.000000</td>\n",
              "    </tr>\n",
              "    <tr>\n",
              "      <th>75%</th>\n",
              "      <td>NaN</td>\n",
              "      <td>NaN</td>\n",
              "      <td>3.000000</td>\n",
              "      <td>19400.000000</td>\n",
              "    </tr>\n",
              "    <tr>\n",
              "      <th>max</th>\n",
              "      <td>NaN</td>\n",
              "      <td>NaN</td>\n",
              "      <td>3.000000</td>\n",
              "      <td>74514.000000</td>\n",
              "    </tr>\n",
              "  </tbody>\n",
              "</table>\n",
              "</div>"
            ],
            "text/plain": [
              "                         INSTNM STABBR      CONTROL  TUITIONFEE_IN\n",
              "count                      7115   7115  7115.000000    4028.000000\n",
              "unique                     6981     59          NaN            NaN\n",
              "top     Stevens-Henager College     CA          NaN            NaN\n",
              "freq                          7    716          NaN            NaN\n",
              "mean                        NaN    NaN     2.129585   15081.399950\n",
              "std                         NaN    NaN     0.834534   12723.724262\n",
              "min                         NaN    NaN     1.000000       0.000000\n",
              "25%                         NaN    NaN     1.000000    5246.250000\n",
              "50%                         NaN    NaN     2.000000   11296.000000\n",
              "75%                         NaN    NaN     3.000000   19400.000000\n",
              "max                         NaN    NaN     3.000000   74514.000000"
            ]
          },
          "metadata": {
            "tags": []
          },
          "execution_count": 3
        }
      ]
    },
    {
      "cell_type": "code",
      "metadata": {
        "id": "BKsBa7MLaTJ3",
        "colab": {
          "base_uri": "https://localhost:8080/",
          "height": 390
        },
        "outputId": "f79f1871-b582-42e6-e472-acc4255bf5ad"
      },
      "source": [
        "# CONTROL represents institution ownership types. \n",
        "# So it should be a categorical variable even the value are numbers\n",
        "# convert it from integer type to string type\n",
        "\n",
        "df[\"CONTROL\"] = df[\"CONTROL\"].astype(str)\n",
        "df.describe(include=\"all\")"
      ],
      "execution_count": null,
      "outputs": [
        {
          "output_type": "execute_result",
          "data": {
            "text/html": [
              "<div>\n",
              "<style scoped>\n",
              "    .dataframe tbody tr th:only-of-type {\n",
              "        vertical-align: middle;\n",
              "    }\n",
              "\n",
              "    .dataframe tbody tr th {\n",
              "        vertical-align: top;\n",
              "    }\n",
              "\n",
              "    .dataframe thead th {\n",
              "        text-align: right;\n",
              "    }\n",
              "</style>\n",
              "<table border=\"1\" class=\"dataframe\">\n",
              "  <thead>\n",
              "    <tr style=\"text-align: right;\">\n",
              "      <th></th>\n",
              "      <th>INSTNM</th>\n",
              "      <th>STABBR</th>\n",
              "      <th>CONTROL</th>\n",
              "      <th>TUITIONFEE_IN</th>\n",
              "    </tr>\n",
              "  </thead>\n",
              "  <tbody>\n",
              "    <tr>\n",
              "      <th>count</th>\n",
              "      <td>7115</td>\n",
              "      <td>7115</td>\n",
              "      <td>7115</td>\n",
              "      <td>4028.000000</td>\n",
              "    </tr>\n",
              "    <tr>\n",
              "      <th>unique</th>\n",
              "      <td>6981</td>\n",
              "      <td>59</td>\n",
              "      <td>3</td>\n",
              "      <td>NaN</td>\n",
              "    </tr>\n",
              "    <tr>\n",
              "      <th>top</th>\n",
              "      <td>Stevens-Henager College</td>\n",
              "      <td>CA</td>\n",
              "      <td>3</td>\n",
              "      <td>NaN</td>\n",
              "    </tr>\n",
              "    <tr>\n",
              "      <th>freq</th>\n",
              "      <td>7</td>\n",
              "      <td>716</td>\n",
              "      <td>2998</td>\n",
              "      <td>NaN</td>\n",
              "    </tr>\n",
              "    <tr>\n",
              "      <th>mean</th>\n",
              "      <td>NaN</td>\n",
              "      <td>NaN</td>\n",
              "      <td>NaN</td>\n",
              "      <td>15081.399950</td>\n",
              "    </tr>\n",
              "    <tr>\n",
              "      <th>std</th>\n",
              "      <td>NaN</td>\n",
              "      <td>NaN</td>\n",
              "      <td>NaN</td>\n",
              "      <td>12723.724262</td>\n",
              "    </tr>\n",
              "    <tr>\n",
              "      <th>min</th>\n",
              "      <td>NaN</td>\n",
              "      <td>NaN</td>\n",
              "      <td>NaN</td>\n",
              "      <td>0.000000</td>\n",
              "    </tr>\n",
              "    <tr>\n",
              "      <th>25%</th>\n",
              "      <td>NaN</td>\n",
              "      <td>NaN</td>\n",
              "      <td>NaN</td>\n",
              "      <td>5246.250000</td>\n",
              "    </tr>\n",
              "    <tr>\n",
              "      <th>50%</th>\n",
              "      <td>NaN</td>\n",
              "      <td>NaN</td>\n",
              "      <td>NaN</td>\n",
              "      <td>11296.000000</td>\n",
              "    </tr>\n",
              "    <tr>\n",
              "      <th>75%</th>\n",
              "      <td>NaN</td>\n",
              "      <td>NaN</td>\n",
              "      <td>NaN</td>\n",
              "      <td>19400.000000</td>\n",
              "    </tr>\n",
              "    <tr>\n",
              "      <th>max</th>\n",
              "      <td>NaN</td>\n",
              "      <td>NaN</td>\n",
              "      <td>NaN</td>\n",
              "      <td>74514.000000</td>\n",
              "    </tr>\n",
              "  </tbody>\n",
              "</table>\n",
              "</div>"
            ],
            "text/plain": [
              "                         INSTNM STABBR CONTROL  TUITIONFEE_IN\n",
              "count                      7115   7115    7115    4028.000000\n",
              "unique                     6981     59       3            NaN\n",
              "top     Stevens-Henager College     CA       3            NaN\n",
              "freq                          7    716    2998            NaN\n",
              "mean                        NaN    NaN     NaN   15081.399950\n",
              "std                         NaN    NaN     NaN   12723.724262\n",
              "min                         NaN    NaN     NaN       0.000000\n",
              "25%                         NaN    NaN     NaN    5246.250000\n",
              "50%                         NaN    NaN     NaN   11296.000000\n",
              "75%                         NaN    NaN     NaN   19400.000000\n",
              "max                         NaN    NaN     NaN   74514.000000"
            ]
          },
          "metadata": {
            "tags": []
          },
          "execution_count": 4
        }
      ]
    },
    {
      "cell_type": "code",
      "metadata": {
        "id": "sToMilO9aTKD",
        "colab": {
          "base_uri": "https://localhost:8080/",
          "height": 173
        },
        "outputId": "e72a3d1a-683f-427c-e11a-5170c2917ad8"
      },
      "source": [
        "# Find out the colleges that have zero tuition\n",
        "\n",
        "df[df[\"TUITIONFEE_IN\"] == 0]"
      ],
      "execution_count": null,
      "outputs": [
        {
          "output_type": "execute_result",
          "data": {
            "text/html": [
              "<div>\n",
              "<style scoped>\n",
              "    .dataframe tbody tr th:only-of-type {\n",
              "        vertical-align: middle;\n",
              "    }\n",
              "\n",
              "    .dataframe tbody tr th {\n",
              "        vertical-align: top;\n",
              "    }\n",
              "\n",
              "    .dataframe thead th {\n",
              "        text-align: right;\n",
              "    }\n",
              "</style>\n",
              "<table border=\"1\" class=\"dataframe\">\n",
              "  <thead>\n",
              "    <tr style=\"text-align: right;\">\n",
              "      <th></th>\n",
              "      <th>INSTNM</th>\n",
              "      <th>STABBR</th>\n",
              "      <th>CONTROL</th>\n",
              "      <th>TUITIONFEE_IN</th>\n",
              "    </tr>\n",
              "  </thead>\n",
              "  <tbody>\n",
              "    <tr>\n",
              "      <th>577</th>\n",
              "      <td>United States Air Force Academy</td>\n",
              "      <td>CO</td>\n",
              "      <td>1</td>\n",
              "      <td>0.0</td>\n",
              "    </tr>\n",
              "    <tr>\n",
              "      <th>629</th>\n",
              "      <td>United States Coast Guard Academy</td>\n",
              "      <td>CT</td>\n",
              "      <td>1</td>\n",
              "      <td>0.0</td>\n",
              "    </tr>\n",
              "    <tr>\n",
              "      <th>1500</th>\n",
              "      <td>United States Naval Academy</td>\n",
              "      <td>MD</td>\n",
              "      <td>1</td>\n",
              "      <td>0.0</td>\n",
              "    </tr>\n",
              "    <tr>\n",
              "      <th>2449</th>\n",
              "      <td>United States Military Academy</td>\n",
              "      <td>NY</td>\n",
              "      <td>1</td>\n",
              "      <td>0.0</td>\n",
              "    </tr>\n",
              "  </tbody>\n",
              "</table>\n",
              "</div>"
            ],
            "text/plain": [
              "                                 INSTNM STABBR CONTROL  TUITIONFEE_IN\n",
              "577     United States Air Force Academy     CO       1            0.0\n",
              "629   United States Coast Guard Academy     CT       1            0.0\n",
              "1500        United States Naval Academy     MD       1            0.0\n",
              "2449     United States Military Academy     NY       1            0.0"
            ]
          },
          "metadata": {
            "tags": []
          },
          "execution_count": 5
        }
      ]
    },
    {
      "cell_type": "code",
      "metadata": {
        "id": "XL_UflDFaTKJ",
        "colab": {
          "base_uri": "https://localhost:8080/"
        },
        "outputId": "0fa41b7d-9820-4718-fac2-d8984943dab1"
      },
      "source": [
        "# Drop the colleges with zero tuition\n",
        "\n",
        "df = df[df[\"TUITIONFEE_IN\"] != 0]\n",
        "df.info()"
      ],
      "execution_count": null,
      "outputs": [
        {
          "output_type": "stream",
          "text": [
            "<class 'pandas.core.frame.DataFrame'>\n",
            "Int64Index: 7111 entries, 0 to 7114\n",
            "Data columns (total 4 columns):\n",
            " #   Column         Non-Null Count  Dtype  \n",
            "---  ------         --------------  -----  \n",
            " 0   INSTNM         7111 non-null   object \n",
            " 1   STABBR         7111 non-null   object \n",
            " 2   CONTROL        7111 non-null   object \n",
            " 3   TUITIONFEE_IN  4024 non-null   float64\n",
            "dtypes: float64(1), object(3)\n",
            "memory usage: 277.8+ KB\n"
          ],
          "name": "stdout"
        }
      ]
    },
    {
      "cell_type": "code",
      "metadata": {
        "id": "YR1ti6PhaTKV",
        "colab": {
          "base_uri": "https://localhost:8080/"
        },
        "outputId": "4c4cdabc-cf86-42b1-efa3-a112e659784a"
      },
      "source": [
        "# Find out how many colleges having missing tuition\n",
        "\n",
        "df[\"TUITIONFEE_IN\"].isna().sum()"
      ],
      "execution_count": null,
      "outputs": [
        {
          "output_type": "execute_result",
          "data": {
            "text/plain": [
              "3087"
            ]
          },
          "metadata": {
            "tags": []
          },
          "execution_count": 7
        }
      ]
    },
    {
      "cell_type": "code",
      "metadata": {
        "id": "N7mP58URaTKe",
        "colab": {
          "base_uri": "https://localhost:8080/"
        },
        "outputId": "e7d5c576-4895-4343-daf1-5629b296ac6e"
      },
      "source": [
        "# Drop these colleges with missing tuition from the dataframe\n",
        "\n",
        "df.dropna(inplace=True)\n",
        "df.info()"
      ],
      "execution_count": null,
      "outputs": [
        {
          "output_type": "stream",
          "text": [
            "<class 'pandas.core.frame.DataFrame'>\n",
            "Int64Index: 4024 entries, 0 to 7114\n",
            "Data columns (total 4 columns):\n",
            " #   Column         Non-Null Count  Dtype  \n",
            "---  ------         --------------  -----  \n",
            " 0   INSTNM         4024 non-null   object \n",
            " 1   STABBR         4024 non-null   object \n",
            " 2   CONTROL        4024 non-null   object \n",
            " 3   TUITIONFEE_IN  4024 non-null   float64\n",
            "dtypes: float64(1), object(3)\n",
            "memory usage: 157.2+ KB\n"
          ],
          "name": "stdout"
        }
      ]
    },
    {
      "cell_type": "code",
      "metadata": {
        "id": "c0cwdQmJm6Y2",
        "colab": {
          "base_uri": "https://localhost:8080/",
          "height": 390
        },
        "outputId": "2e8fe827-a340-4dfd-a726-59d09c9cc2fb"
      },
      "source": [
        "df.describe(include=\"all\")"
      ],
      "execution_count": null,
      "outputs": [
        {
          "output_type": "execute_result",
          "data": {
            "text/html": [
              "<div>\n",
              "<style scoped>\n",
              "    .dataframe tbody tr th:only-of-type {\n",
              "        vertical-align: middle;\n",
              "    }\n",
              "\n",
              "    .dataframe tbody tr th {\n",
              "        vertical-align: top;\n",
              "    }\n",
              "\n",
              "    .dataframe thead th {\n",
              "        text-align: right;\n",
              "    }\n",
              "</style>\n",
              "<table border=\"1\" class=\"dataframe\">\n",
              "  <thead>\n",
              "    <tr style=\"text-align: right;\">\n",
              "      <th></th>\n",
              "      <th>INSTNM</th>\n",
              "      <th>STABBR</th>\n",
              "      <th>CONTROL</th>\n",
              "      <th>TUITIONFEE_IN</th>\n",
              "    </tr>\n",
              "  </thead>\n",
              "  <tbody>\n",
              "    <tr>\n",
              "      <th>count</th>\n",
              "      <td>4024</td>\n",
              "      <td>4024</td>\n",
              "      <td>4024</td>\n",
              "      <td>4024.000000</td>\n",
              "    </tr>\n",
              "    <tr>\n",
              "      <th>unique</th>\n",
              "      <td>3966</td>\n",
              "      <td>59</td>\n",
              "      <td>3</td>\n",
              "      <td>NaN</td>\n",
              "    </tr>\n",
              "    <tr>\n",
              "      <th>top</th>\n",
              "      <td>Stevens-Henager College</td>\n",
              "      <td>CA</td>\n",
              "      <td>1</td>\n",
              "      <td>NaN</td>\n",
              "    </tr>\n",
              "    <tr>\n",
              "      <th>freq</th>\n",
              "      <td>7</td>\n",
              "      <td>316</td>\n",
              "      <td>1692</td>\n",
              "      <td>NaN</td>\n",
              "    </tr>\n",
              "    <tr>\n",
              "      <th>mean</th>\n",
              "      <td>NaN</td>\n",
              "      <td>NaN</td>\n",
              "      <td>NaN</td>\n",
              "      <td>15096.391402</td>\n",
              "    </tr>\n",
              "    <tr>\n",
              "      <th>std</th>\n",
              "      <td>NaN</td>\n",
              "      <td>NaN</td>\n",
              "      <td>NaN</td>\n",
              "      <td>12721.153785</td>\n",
              "    </tr>\n",
              "    <tr>\n",
              "      <th>min</th>\n",
              "      <td>NaN</td>\n",
              "      <td>NaN</td>\n",
              "      <td>NaN</td>\n",
              "      <td>480.000000</td>\n",
              "    </tr>\n",
              "    <tr>\n",
              "      <th>25%</th>\n",
              "      <td>NaN</td>\n",
              "      <td>NaN</td>\n",
              "      <td>NaN</td>\n",
              "      <td>5255.750000</td>\n",
              "    </tr>\n",
              "    <tr>\n",
              "      <th>50%</th>\n",
              "      <td>NaN</td>\n",
              "      <td>NaN</td>\n",
              "      <td>NaN</td>\n",
              "      <td>11315.000000</td>\n",
              "    </tr>\n",
              "    <tr>\n",
              "      <th>75%</th>\n",
              "      <td>NaN</td>\n",
              "      <td>NaN</td>\n",
              "      <td>NaN</td>\n",
              "      <td>19400.000000</td>\n",
              "    </tr>\n",
              "    <tr>\n",
              "      <th>max</th>\n",
              "      <td>NaN</td>\n",
              "      <td>NaN</td>\n",
              "      <td>NaN</td>\n",
              "      <td>74514.000000</td>\n",
              "    </tr>\n",
              "  </tbody>\n",
              "</table>\n",
              "</div>"
            ],
            "text/plain": [
              "                         INSTNM STABBR CONTROL  TUITIONFEE_IN\n",
              "count                      4024   4024    4024    4024.000000\n",
              "unique                     3966     59       3            NaN\n",
              "top     Stevens-Henager College     CA       1            NaN\n",
              "freq                          7    316    1692            NaN\n",
              "mean                        NaN    NaN     NaN   15096.391402\n",
              "std                         NaN    NaN     NaN   12721.153785\n",
              "min                         NaN    NaN     NaN     480.000000\n",
              "25%                         NaN    NaN     NaN    5255.750000\n",
              "50%                         NaN    NaN     NaN   11315.000000\n",
              "75%                         NaN    NaN     NaN   19400.000000\n",
              "max                         NaN    NaN     NaN   74514.000000"
            ]
          },
          "metadata": {
            "tags": []
          },
          "execution_count": 9
        }
      ]
    },
    {
      "cell_type": "markdown",
      "metadata": {
        "id": "c5K0XMhQaTKk"
      },
      "source": [
        "Finally, we have a population of 4,024 colleges. \n",
        "\n",
        "We will now proceed to take a random sample of colleges and use the sample mean as an estimator for the population mean. Since the sample mean is only the approximation of the population mean, we would like to find out our confidence level and confidence interval of our estimate and the margin of errors.\n",
        "\n",
        "The formula for calculating standard deviation of a sample is:\n",
        "\n",
        " √(∑(xi - x(bar))^2) /n-1)  \n",
        "\n",
        "The term n-1 is called the degrees of freedom, meaning \"number of independent variables - number of parameters estimated\".\n",
        "in this case the mean is being estimated.\n",
        "\n",
        "The formula for calculating standard deviation of a population is:\n",
        "\n",
        "√(∑((xi - µ )^2) /n) \n",
        "\n",
        "**The Standard Error (SE) = Standard Deviation / Square Root of Sample Size**\n",
        "\n",
        "The SE is the standard deviation of the sampling distribution and is used to measure the sampling error. So the small the sample size, the large the sampling error is."
      ]
    },
    {
      "cell_type": "code",
      "metadata": {
        "id": "ZFYFt6AmaTKl",
        "colab": {
          "base_uri": "https://localhost:8080/"
        },
        "outputId": "f3c8ca4b-54bd-476e-a316-8ac0769c70e7"
      },
      "source": [
        "# Random sample of colleges\n",
        "SAMPLE_SIZE = 50   # This variable will be used through out the rest of cells\n",
        "\n",
        "df_sample = df.sample(SAMPLE_SIZE)\n",
        "sample_mean = df_sample[\"TUITIONFEE_IN\"].mean()\n",
        "sample_mean                   "
      ],
      "execution_count": null,
      "outputs": [
        {
          "output_type": "execute_result",
          "data": {
            "text/plain": [
              "15950.12"
            ]
          },
          "metadata": {
            "tags": []
          },
          "execution_count": 10
        }
      ]
    },
    {
      "cell_type": "code",
      "metadata": {
        "id": "mOIK9pPlaTKv",
        "colab": {
          "base_uri": "https://localhost:8080/"
        },
        "outputId": "a624491f-60a3-46fa-d503-7c843c3e1912"
      },
      "source": [
        "#### Let's calculate the sample standard deviation the hard way\n",
        "\n",
        "tuition_list = list(df_sample[\"TUITIONFEE_IN\"])\n",
        "degree_of_freedom = SAMPLE_SIZE - 1\n",
        "variance = 0\n",
        "for tuition in tuition_list:\n",
        "    variance += (tuition - sample_mean)**2\n",
        "sample_std = math.sqrt(variance/degree_of_freedom)\n",
        "round(sample_std, 2)"
      ],
      "execution_count": null,
      "outputs": [
        {
          "output_type": "execute_result",
          "data": {
            "text/plain": [
              "10195.73"
            ]
          },
          "metadata": {
            "tags": []
          },
          "execution_count": 11
        }
      ]
    },
    {
      "cell_type": "code",
      "metadata": {
        "id": "SbPW5I1raTK0",
        "colab": {
          "base_uri": "https://localhost:8080/"
        },
        "outputId": "25543774-e88a-4bc2-e51b-a72b7fb1c767"
      },
      "source": [
        "#### Let's calculate the sample standard deviation easy way using Pandas\n",
        "\n",
        "sample_std = df_sample[\"TUITIONFEE_IN\"].std()\n",
        "round(sample_std, 2)"
      ],
      "execution_count": null,
      "outputs": [
        {
          "output_type": "execute_result",
          "data": {
            "text/plain": [
              "10195.73"
            ]
          },
          "metadata": {
            "tags": []
          },
          "execution_count": 12
        }
      ]
    },
    {
      "cell_type": "markdown",
      "metadata": {
        "id": "AAUEARPEaTK-"
      },
      "source": [
        "#### Let's calculate the sample standard deviation easy way using Numpy\n",
        "\n",
        "Notes:\n",
        "\n",
        "Delta Degrees of Freedom (DDOF): the divisor used in the calculation is N - ddof, where N represents the number of observations. By default, ddof is zero.\n",
        "\n",
        "In standard statistical practice, ddof=1 provides an unbiased estimator of the variance of a hypothetical infinite population. ddof=0 provides a maximum likelihood estimate of the variance for normally distributed variables.\n"
      ]
    },
    {
      "cell_type": "code",
      "metadata": {
        "id": "iHQ7IU4EaTK_",
        "colab": {
          "base_uri": "https://localhost:8080/"
        },
        "outputId": "a89b02fc-646a-4e24-9901-098660035e6c"
      },
      "source": [
        "sample_std = np.std(df_sample[\"TUITIONFEE_IN\"], ddof=1)\n",
        "round(sample_std, 2)"
      ],
      "execution_count": null,
      "outputs": [
        {
          "output_type": "execute_result",
          "data": {
            "text/plain": [
              "10195.73"
            ]
          },
          "metadata": {
            "tags": []
          },
          "execution_count": 13
        }
      ]
    },
    {
      "cell_type": "code",
      "metadata": {
        "id": "sxQlnWYepgHq"
      },
      "source": [],
      "execution_count": null,
      "outputs": []
    },
    {
      "cell_type": "markdown",
      "metadata": {
        "id": "M204zeBAaTLE"
      },
      "source": [
        "### Confidence Intervals \n",
        "\n",
        "We will use the following characteristics of a normal distribution:\n",
        "\n",
        "- 68% of values are within 1 standard deviation of the mean, 𝜇±𝜎\n",
        "- 95% of values are within 2 standard deviations of the mean, 𝜇±2𝜎\n",
        "- 99.7% of values are within 3 standard deviations of the mean, 𝜇±3𝜎 (This is where the famous 6 sigma came from)"
      ]
    },
    {
      "cell_type": "code",
      "metadata": {
        "id": "3WgSCNQKaTLF",
        "colab": {
          "base_uri": "https://localhost:8080/"
        },
        "outputId": "80e5ea8d-cc34-4e94-f1ce-61d9cb7a9949"
      },
      "source": [
        "# let's calculate the standard error first \n",
        "# Since we assume we don't know the population standard deviation, we use sample standard deviation as an estimate\n",
        "\n",
        "std_err = sample_std / math.sqrt(SAMPLE_SIZE)       # standard error\n",
        "std_err"
      ],
      "execution_count": null,
      "outputs": [
        {
          "output_type": "execute_result",
          "data": {
            "text/plain": [
              "1441.8936739763653"
            ]
          },
          "metadata": {
            "tags": []
          },
          "execution_count": 15
        }
      ]
    },
    {
      "cell_type": "code",
      "metadata": {
        "id": "wH4bmrGgaTLJ",
        "colab": {
          "base_uri": "https://localhost:8080/"
        },
        "outputId": "d70149ce-ff8c-4891-ec31-a6267b04d84d"
      },
      "source": [
        "# Calculate 68% Confidence Interval (CI) - one standard error from the population mean\n",
        "# 68% chances the population mean is within the sample_mean (+ or -) the standard error (SE)\n",
        "\n",
        "LCL_68 = sample_mean -  std_err\n",
        "UCL_68 = sample_mean +  std_err\n",
        "\n",
        "print(\"Lower confidence limit at 68% confidence level = \", round(LCL_68,2))\n",
        "print(\"Upper confidence limit at 68% confidence level = \", round(UCL_68,2))"
      ],
      "execution_count": null,
      "outputs": [
        {
          "output_type": "stream",
          "text": [
            "Lower confidence limit at 68% confidence level =  14508.23\n",
            "Upper confidence limit at 68% confidence level =  17392.01\n"
          ],
          "name": "stdout"
        }
      ]
    },
    {
      "cell_type": "code",
      "metadata": {
        "id": "FmAC2CqDaTLP",
        "colab": {
          "base_uri": "https://localhost:8080/"
        },
        "outputId": "9f1d66ce-01c5-466f-c2cc-49651a1e389c"
      },
      "source": [
        "# Calculate 95% Confidence Interval (CI) - one standard error from the population mean\n",
        "# 90% chances the population mean is within the sample_mean + or - 2 * the standard error (SE)\n",
        "\n",
        "LCL_95 = sample_mean -  2 * std_err\n",
        "UCL_95 = sample_mean +  2 * std_err\n",
        "print(\"Lower confidence limit at 95% confidence level = \", round(LCL_95,2))\n",
        "print(\"Upper confidence limit at 95% confidence level = \", round(UCL_95,2))\n"
      ],
      "execution_count": null,
      "outputs": [
        {
          "output_type": "stream",
          "text": [
            "Lower confidence limit at 95% confidence level =  13066.33\n",
            "Upper confidence limit at 95% confidence level =  18833.91\n"
          ],
          "name": "stdout"
        }
      ]
    },
    {
      "cell_type": "code",
      "metadata": {
        "id": "GtTn1ktJaTLU",
        "colab": {
          "base_uri": "https://localhost:8080/"
        },
        "outputId": "7f82eb52-4380-4ca7-f2e9-eea98feaa3c6"
      },
      "source": [
        "# Calculate 99.7% Confidence Interval (CI) - one standard error from the population mean\n",
        "# 99.7% chances the population mean is within the sample_mean + or - 3 * the standard error (SE)\n",
        "\n",
        "LCL_997 = sample_mean -  3 * std_err\n",
        "UCL_997 = sample_mean +  3 * std_err\n",
        "print(\"Lower confidence limit at 99.7% confidence level = \", round(LCL_997,2))\n",
        "print(\"Upper confidence limit at 99.7% confidence level = \", round(UCL_997,2))"
      ],
      "execution_count": null,
      "outputs": [
        {
          "output_type": "stream",
          "text": [
            "Lower confidence limit at 99.7% confidence level =  11624.44\n",
            "Upper confidence limit at 99.7% confidence level =  20275.8\n"
          ],
          "name": "stdout"
        }
      ]
    },
    {
      "cell_type": "code",
      "metadata": {
        "id": "DaSAuU5baTLa",
        "colab": {
          "base_uri": "https://localhost:8080/",
          "height": 34
        },
        "outputId": "387014c8-dc48-4ae7-fd9e-a788dbf22fd1"
      },
      "source": [
        "# Calculate population mean\n",
        "\n",
        "df[\"TUITIONFEE_IN\"].mean()"
      ],
      "execution_count": null,
      "outputs": [
        {
          "output_type": "execute_result",
          "data": {
            "text/plain": [
              "15096.391401590457"
            ]
          },
          "metadata": {
            "tags": []
          },
          "execution_count": 36
        }
      ]
    },
    {
      "cell_type": "markdown",
      "metadata": {
        "id": "8nzbKEzRaTLj"
      },
      "source": [
        "## Next, let's compare the tuition of different types of institutions using Boxplot"
      ]
    },
    {
      "cell_type": "code",
      "metadata": {
        "id": "e1FuUQNfaTLk",
        "colab": {
          "base_uri": "https://localhost:8080/",
          "height": 355
        },
        "outputId": "f5621141-4352-4a1d-b568-8424d20936c5"
      },
      "source": [
        "# Transform the cryptic numbers to explicit lables. \n",
        "# Notice here we don't use for loop. Instead, we use \"apply\" and \n",
        "# and pass a function as a parameter. This is called funcitonal programming\n",
        "# style. \n",
        "\n",
        "def get_ownership(control):\n",
        "    if control == \"1\":\n",
        "        return \"Public\"\n",
        "    elif control ==\"2\":\n",
        "        return \"Private nonprofit\"\n",
        "    elif control ==\"3\":\n",
        "        return \"Private for-profit\"\n",
        "    else: \n",
        "        return np.nan\n",
        "    \n",
        "df[\"CONTROL\"] = df[\"CONTROL\"].apply(get_ownership)\n",
        "df.sample(10)"
      ],
      "execution_count": null,
      "outputs": [
        {
          "output_type": "execute_result",
          "data": {
            "text/html": [
              "<div>\n",
              "<style scoped>\n",
              "    .dataframe tbody tr th:only-of-type {\n",
              "        vertical-align: middle;\n",
              "    }\n",
              "\n",
              "    .dataframe tbody tr th {\n",
              "        vertical-align: top;\n",
              "    }\n",
              "\n",
              "    .dataframe thead th {\n",
              "        text-align: right;\n",
              "    }\n",
              "</style>\n",
              "<table border=\"1\" class=\"dataframe\">\n",
              "  <thead>\n",
              "    <tr style=\"text-align: right;\">\n",
              "      <th></th>\n",
              "      <th>INSTNM</th>\n",
              "      <th>STABBR</th>\n",
              "      <th>CONTROL</th>\n",
              "      <th>TUITIONFEE_IN</th>\n",
              "    </tr>\n",
              "  </thead>\n",
              "  <tbody>\n",
              "    <tr>\n",
              "      <th>1761</th>\n",
              "      <td>Hamline University</td>\n",
              "      <td>MN</td>\n",
              "      <td>Private nonprofit</td>\n",
              "      <td>40332.0</td>\n",
              "    </tr>\n",
              "    <tr>\n",
              "      <th>2289</th>\n",
              "      <td>Hobart William Smith Colleges</td>\n",
              "      <td>NY</td>\n",
              "      <td>Private nonprofit</td>\n",
              "      <td>53525.0</td>\n",
              "    </tr>\n",
              "    <tr>\n",
              "      <th>5415</th>\n",
              "      <td>Argosy University-Salt Lake City</td>\n",
              "      <td>UT</td>\n",
              "      <td>Private for-profit</td>\n",
              "      <td>13438.0</td>\n",
              "    </tr>\n",
              "    <tr>\n",
              "      <th>4080</th>\n",
              "      <td>Bethel Seminary-San Diego</td>\n",
              "      <td>CA</td>\n",
              "      <td>Private nonprofit</td>\n",
              "      <td>NaN</td>\n",
              "    </tr>\n",
              "    <tr>\n",
              "      <th>4420</th>\n",
              "      <td>Central Susquehanna Intermediate Unit LPN Career</td>\n",
              "      <td>PA</td>\n",
              "      <td>Public</td>\n",
              "      <td>NaN</td>\n",
              "    </tr>\n",
              "    <tr>\n",
              "      <th>3730</th>\n",
              "      <td>Cornish College of the Arts</td>\n",
              "      <td>WA</td>\n",
              "      <td>Private nonprofit</td>\n",
              "      <td>40464.0</td>\n",
              "    </tr>\n",
              "    <tr>\n",
              "      <th>6263</th>\n",
              "      <td>Paul Mitchell the School-Ardmore</td>\n",
              "      <td>OK</td>\n",
              "      <td>Private for-profit</td>\n",
              "      <td>NaN</td>\n",
              "    </tr>\n",
              "    <tr>\n",
              "      <th>3853</th>\n",
              "      <td>Milwaukee Institute of Art &amp; Design</td>\n",
              "      <td>WI</td>\n",
              "      <td>Private nonprofit</td>\n",
              "      <td>36230.0</td>\n",
              "    </tr>\n",
              "    <tr>\n",
              "      <th>5505</th>\n",
              "      <td>Woodland Community College</td>\n",
              "      <td>CA</td>\n",
              "      <td>Public</td>\n",
              "      <td>1124.0</td>\n",
              "    </tr>\n",
              "    <tr>\n",
              "      <th>1524</th>\n",
              "      <td>Boston Architectural College</td>\n",
              "      <td>MA</td>\n",
              "      <td>Private nonprofit</td>\n",
              "      <td>21174.0</td>\n",
              "    </tr>\n",
              "  </tbody>\n",
              "</table>\n",
              "</div>"
            ],
            "text/plain": [
              "                                                INSTNM  ... TUITIONFEE_IN\n",
              "1761                                Hamline University  ...       40332.0\n",
              "2289                     Hobart William Smith Colleges  ...       53525.0\n",
              "5415                  Argosy University-Salt Lake City  ...       13438.0\n",
              "4080                         Bethel Seminary-San Diego  ...           NaN\n",
              "4420  Central Susquehanna Intermediate Unit LPN Career  ...           NaN\n",
              "3730                       Cornish College of the Arts  ...       40464.0\n",
              "6263                  Paul Mitchell the School-Ardmore  ...           NaN\n",
              "3853               Milwaukee Institute of Art & Design  ...       36230.0\n",
              "5505                        Woodland Community College  ...        1124.0\n",
              "1524                      Boston Architectural College  ...       21174.0\n",
              "\n",
              "[10 rows x 4 columns]"
            ]
          },
          "metadata": {
            "tags": []
          },
          "execution_count": 17
        }
      ]
    },
    {
      "cell_type": "code",
      "metadata": {
        "id": "1hgx0t6JaTLp",
        "colab": {
          "base_uri": "https://localhost:8080/",
          "height": 797
        },
        "outputId": "e1abf2d2-d062-49d5-c1be-f2145e7eb1ef"
      },
      "source": [
        "# Display the boxplot by different ownership types\n",
        "\n",
        "df.boxplot(\"TUITIONFEE_IN\",by=\"CONTROL\")"
      ],
      "execution_count": null,
      "outputs": [
        {
          "output_type": "execute_result",
          "data": {
            "text/plain": [
              "<matplotlib.axes._subplots.AxesSubplot at 0x7fb39275df60>"
            ]
          },
          "metadata": {
            "tags": []
          },
          "execution_count": 18
        },
        {
          "output_type": "display_data",
          "data": {
            "image/png": "[encoded data removed]",
            "text/plain": [
              "<Figure size 864x864 with 1 Axes>"
            ]
          },
          "metadata": {
            "tags": [],
            "needs_background": "light"
          }
        }
      ]
    },
    {
      "cell_type": "markdown",
      "metadata": {
        "id": "FnUM8Rt7z1rO"
      },
      "source": [
        "**Question: Why pro-profit college charge lower tuition than nonprofit ones?**"
      ]
    },
    {
      "cell_type": "markdown",
      "metadata": {
        "id": "9-iK-VCeaTLw"
      },
      "source": [
        "### The End "
      ]
    }
  ]
}